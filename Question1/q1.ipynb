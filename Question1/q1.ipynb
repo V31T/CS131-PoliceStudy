{
 "cells": [
  {
   "cell_type": "markdown",
   "metadata": {},
   "source": [
    "# A clean version of the first notebook i made"
   ]
  },
  {
   "cell_type": "code",
   "execution_count": null,
   "metadata": {},
   "outputs": [],
   "source": [
    "import pandas as pd\n",
    "import seaborn as sns\n",
    "import numpy as np\n",
    "import matplotlib.pyplot as plt\n",
    "import plotly.express as px\n",
    "import plotly.graph_objects as go\n",
    "\n",
    "# Read CSV file and convert to DataFrame\n",
    "df = pd.read_csv('../data/raw_data.csv')\n",
    "df.head()\n",
    "\n",
    "# extract date, time, location, lat, lng, subject_race, type, arrest_made, citation_issued, outcome, reasone_for_stop\n",
    "df_extracted = df[['date', 'time', 'location', 'lat', 'lng', 'subject_race', 'type', 'arrest_made', 'citation_issued', 'outcome', 'reason_for_stop']]\n",
    "df_extracted.head()"
   ]
  },
  {
   "cell_type": "markdown",
   "metadata": {},
   "source": []
  },
  {
   "cell_type": "code",
   "execution_count": null,
   "metadata": {},
   "outputs": [],
   "source": [
    "# Create a Plotly map open-street-map\n",
    "fig = px.scatter_mapbox(\n",
    "    df_extracted,\n",
    "    lat=\"lat\",\n",
    "    lon=\"lng\",\n",
    "    hover_data={\"location\": True, \"subject_race\": True, \"reason_for_stop\": True, \"arrest_made\": True},\n",
    "    width=1600,\n",
    "    height=1200,\n",
    "    zoom=11,\n",
    "    mapbox_style=\"open-street-map\",  # Choose a map style\n",
    "    center={\"lat\": 37.3382, \"lon\": -121.8863}, \n",
    "    title=\"Police Stops in San Jose\"\n",
    ")\n",
    "\n",
    "# reduce point size\n",
    "fig.update_traces(marker=dict(size=4))\n",
    "\n",
    "# Show map\n",
    "fig.show()"
   ]
  },
  {
   "cell_type": "code",
   "execution_count": null,
   "metadata": {},
   "outputs": [],
   "source": [
    "import hdbscan\n",
    "\n",
    "clustering = df_extracted\n",
    "\n",
    "coords = clustering[['lat', 'lng']].to_numpy()\n",
    "clusterer = hdbscan.HDBSCAN(min_cluster_size=2, metric='haversine')\n",
    "clusterer.fit(np.radians(coords))\n",
    "clustering['cluster'] = clusterer.labels_\n",
    "\n",
    "clustering"
   ]
  },
  {
   "cell_type": "code",
   "execution_count": null,
   "metadata": {},
   "outputs": [],
   "source": [
    "fig = px.scatter_mapbox(\n",
    "    clustering,\n",
    "    lat=\"lat\",\n",
    "    lon=\"lng\",\n",
    "    color=\"cluster\",\n",
    "    hover_name=\"reason_for_stop\",\n",
    "    width=1600,\n",
    "    height=1200,\n",
    "    zoom=11,\n",
    "    center={\"lat\": 37.3382, \"lon\": -121.8863}, \n",
    "    title=\"Police Stops in San Jose\"\n",
    ")\n",
    "\n",
    "fig.update_traces(marker=dict(size=5))\n",
    "fig.update_layout(mapbox_style=\"open-street-map\")\n",
    "fig.show()"
   ]
  },
  {
   "cell_type": "code",
   "execution_count": null,
   "metadata": {},
   "outputs": [],
   "source": [
    "import json\n",
    "\n",
    "# Load the GeoJSON data for San Jose districts\n",
    "# geojson_url = \"https://gisdata-csj.opendata.arcgis.com/api/download/v1/items/001373893c8347d4b36cf15a6103f78c/geojson?layers=120\"\n",
    "\n",
    "# i have it locally\n",
    "with open('Council_District.geojson') as f:\n",
    "    districts_geojson = json.load(f)\n",
    "\n",
    "\n",
    "districts_df = pd.DataFrame({\n",
    "    \"district_id\": [feature['properties']['DISTRICT'] for feature in districts_geojson['features']],\n",
    "    \"population\": [district['properties']['POPULATION'] for district in districts_geojson['features']]\n",
    "})\n",
    "\n",
    "# Visualize districts\n",
    "fig = px.choropleth_mapbox(\n",
    "    districts_df,\n",
    "    geojson=districts_geojson,\n",
    "    locations=\"district_id\",  # This should match the GeoJSON 'DISTRICT' key\n",
    "    featureidkey=\"properties.DISTRICT\",  # Key in the GeoJSON\n",
    "    color=\"population\",\n",
    "    hover_name=\"district_id\",\n",
    "    title=\"San Jose Council Districts\",\n",
    "    mapbox_style=\"carto-positron\",\n",
    "    center={\"lat\": 37.3382, \"lon\": -121.8863},\n",
    "    zoom=10,\n",
    "    width=800,\n",
    "    height=600\n",
    ")\n",
    "\n",
    "fig.update_layout(margin={\"r\":0,\"t\":50,\"l\":0,\"b\":0})\n",
    "fig.show()"
   ]
  },
  {
   "cell_type": "code",
   "execution_count": null,
   "metadata": {},
   "outputs": [],
   "source": [
    "df_extracted['time'] = pd.to_datetime(df_extracted['time'], format='%H:%M:%S')\n",
    "\n",
    "df_extracted['hour'] = df_extracted['time'].dt.hour\n",
    "\n",
    "hourly_stops = df_extracted['hour'].value_counts().sort_index()\n",
    "\n",
    "plt.figure(figsize=(10, 6))\n",
    "sns.lineplot(x=hourly_stops.index, y=hourly_stops.values, palette='viridis')\n",
    "plt.xlabel('Hour of Day')\n",
    "plt.ylabel('Number of Stops')\n",
    "plt.title('Number of Police Stops by Hour of Day')\n",
    "plt.xticks(range(24))\n",
    "plt.show()"
   ]
  }
 ],
 "metadata": {
  "kernelspec": {
   "display_name": ".venv",
   "language": "python",
   "name": "python3"
  },
  "language_info": {
   "codemirror_mode": {
    "name": "ipython",
    "version": 3
   },
   "file_extension": ".py",
   "mimetype": "text/x-python",
   "name": "python",
   "nbconvert_exporter": "python",
   "pygments_lexer": "ipython3",
   "version": "3.12.1"
  }
 },
 "nbformat": 4,
 "nbformat_minor": 2
}
